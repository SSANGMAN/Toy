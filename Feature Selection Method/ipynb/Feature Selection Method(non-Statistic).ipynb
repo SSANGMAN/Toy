{
 "cells": [
  {
   "cell_type": "markdown",
   "metadata": {},
   "source": [
    "# Feature Selection Method\n",
    "\n",
    "이전 노트북에서는 Filter 기반의 통계적 특성을 이용한 변수 선택법에 대해 알아보았다. Filter 기반 변수 선택법은 통계적 측정 방법을 이용하여 피쳐들의 상관관계를 알아내고 관계 없는 변수들을 제거하는 방법이다. Wrapper 방법은 예측 모델을 사용하여 피쳐의 하위 집합(subset)을 계속 테스트하는 방법이다. 이 노트북에서는 Wrapper 기반 Recursive Feature Elimination(RFE)에 대해 알아본다.\n",
    "\n",
    "## Recursive Feature Elimination(RFE)\n",
    "RFE는 Wrapper 기반 변수 선택 알고리즘 중 하나다. 재귀적으로 변수를 제거하고 남아 있는 변수에 대한 모델을 구축하는 방식으로 작동한다. 훈련 데이터의 모든 변수부터 시작하여 원하는 수가 남을 때까지 변수를 제거함으로써 변수의 하위 집합을 탐색한다. 이 때, 어떤 변수 조합이 목표 변수에 가장 큰 기여를 하즌지를 식별하기 위해 모델 정확도를 이용한다. \n",
    "\n",
    "RFE를 사용할 때 두 가지 중요한 요소를 고려해야한다. 첫 번째는 <strong>선택할 변수의 수</strong>와 <strong>변수 선택을 돕기 위해 사용되는 알고리즘 선택</strong>이다. \n",
    "\n",
    "아래 예제는 Logistic Regression과 함께 RFE 알고리즘을 사용하여 상위 5개 변수를 선택한다. "
   ]
  },
  {
   "cell_type": "code",
   "execution_count": 59,
   "metadata": {
    "ExecuteTime": {
     "end_time": "2020-08-16T13:21:35.186697Z",
     "start_time": "2020-08-16T13:21:35.169130Z"
    }
   },
   "outputs": [],
   "source": [
    "import pandas as pd\n",
    "import numpy as np\n",
    "from sklearn.feature_selection import RFE\n",
    "from sklearn.linear_model import LogisticRegression\n",
    "from sklearn.metrics import accuracy_score, roc_auc_score\n",
    "\n",
    "import warnings\n",
    "warnings.filterwarnings('ignore')"
   ]
  },
  {
   "cell_type": "code",
   "execution_count": 65,
   "metadata": {
    "ExecuteTime": {
     "end_time": "2020-08-16T13:25:59.723461Z",
     "start_time": "2020-08-16T13:25:59.419732Z"
    }
   },
   "outputs": [
    {
     "data": {
      "text/plain": [
       "0    500\n",
       "1    268\n",
       "Name: class, dtype: int64"
      ]
     },
     "execution_count": 65,
     "metadata": {},
     "output_type": "execute_result"
    }
   ],
   "source": [
    "url = \"https://raw.githubusercontent.com/jbrownlee/Datasets/master/pima-indians-diabetes.csv\"\n",
    "col_names = ['preg', 'plas', 'pres', 'skin', 'test', 'mass', 'pedi', 'age', 'class']\n",
    "df = pd.read_csv(url, names = col_names)\n",
    "df['class'].value_counts()"
   ]
  },
  {
   "cell_type": "markdown",
   "metadata": {},
   "source": [
    "예측해야 하는 클래스가 2:1 비율로 비교적 불균형하다는 것을 알 수 있다. 따라서, Accuracy와 AUC 지표를 모두 비교하여 모델을 평가한다."
   ]
  },
  {
   "cell_type": "code",
   "execution_count": 61,
   "metadata": {
    "ExecuteTime": {
     "end_time": "2020-08-16T13:21:36.244262Z",
     "start_time": "2020-08-16T13:21:36.223651Z"
    }
   },
   "outputs": [],
   "source": [
    "df_array = np.array(df)\n",
    "\n",
    "split_size = int(0.25 * len(df_array))\n",
    "np.random.seed(0)\n",
    "np.random.shuffle(df_array)\n",
    "\n",
    "X = df_array[:, 0:-1]\n",
    "y = df_array[:, -1]\n",
    "\n",
    "X_train = X[:-split_size]\n",
    "y_train = y[:-split_size]\n",
    "\n",
    "X_test = X[-split_size:]\n",
    "y_test = y[-split_size:]"
   ]
  },
  {
   "cell_type": "markdown",
   "metadata": {},
   "source": [
    "## Modeling (non-RFE)"
   ]
  },
  {
   "cell_type": "code",
   "execution_count": 62,
   "metadata": {
    "ExecuteTime": {
     "end_time": "2020-08-16T13:21:36.470943Z",
     "start_time": "2020-08-16T13:21:36.395266Z"
    }
   },
   "outputs": [
    {
     "name": "stdout",
     "output_type": "stream",
     "text": [
      "Accuracy Score:  0.7604166666666666\n",
      "AUC Score:  0.7975772259236826\n"
     ]
    }
   ],
   "source": [
    "clf = LogisticRegression()\n",
    "clf.fit(X_train, y_train)\n",
    "\n",
    "pred = clf.predict(X_test)\n",
    "pred_proba = clf.predict_proba(X_test)[:, 1]\n",
    "print(\"Accuracy Score: \", accuracy_score(y_test, pred))\n",
    "print(\"AUC Score: \", roc_auc_score(y_test, pred_proba))"
   ]
  },
  {
   "cell_type": "markdown",
   "metadata": {},
   "source": [
    "## Modeling (Adjust RFE)"
   ]
  },
  {
   "cell_type": "code",
   "execution_count": 63,
   "metadata": {
    "ExecuteTime": {
     "end_time": "2020-08-16T13:21:37.224081Z",
     "start_time": "2020-08-16T13:21:37.019283Z"
    }
   },
   "outputs": [
    {
     "name": "stdout",
     "output_type": "stream",
     "text": [
      "Num Features: 5\n",
      "Selected Features: [ True  True False False False  True  True  True]\n",
      "Feature Ranking: [1 1 2 3 4 1 1 1]\n"
     ]
    }
   ],
   "source": [
    "clf = LogisticRegression()\n",
    "rfe = RFE(clf, 5)\n",
    "\n",
    "fit = rfe.fit(X_train,y_train)\n",
    "print(\"Num Features: %d\" % fit.n_features_)\n",
    "print(\"Selected Features: %s\" % fit.support_)\n",
    "print(\"Feature Ranking: %s\" % fit.ranking_)"
   ]
  },
  {
   "cell_type": "code",
   "execution_count": 64,
   "metadata": {
    "ExecuteTime": {
     "end_time": "2020-08-16T13:21:37.761357Z",
     "start_time": "2020-08-16T13:21:37.745709Z"
    }
   },
   "outputs": [
    {
     "name": "stdout",
     "output_type": "stream",
     "text": [
      "Accuracy Score:  0.765625\n",
      "AUC Score:  0.803755299818292\n"
     ]
    }
   ],
   "source": [
    "pred = rfe.predict(X_test)\n",
    "pred_proba = rfe.predict_proba(X_test)[:, 1]\n",
    "print(\"Accuracy Score: \", accuracy_score(pred, y_test))\n",
    "print(\"AUC Score: \", roc_auc_score(y_test, pred_proba))"
   ]
  }
 ],
 "metadata": {
  "kernelspec": {
   "display_name": "Python 3",
   "language": "python",
   "name": "python3"
  },
  "language_info": {
   "codemirror_mode": {
    "name": "ipython",
    "version": 3
   },
   "file_extension": ".py",
   "mimetype": "text/x-python",
   "name": "python",
   "nbconvert_exporter": "python",
   "pygments_lexer": "ipython3",
   "version": "3.7.7"
  },
  "toc": {
   "base_numbering": 1,
   "nav_menu": {},
   "number_sections": true,
   "sideBar": true,
   "skip_h1_title": false,
   "title_cell": "Table of Contents",
   "title_sidebar": "Contents",
   "toc_cell": false,
   "toc_position": {},
   "toc_section_display": true,
   "toc_window_display": false
  },
  "varInspector": {
   "cols": {
    "lenName": 16,
    "lenType": 16,
    "lenVar": 40
   },
   "kernels_config": {
    "python": {
     "delete_cmd_postfix": "",
     "delete_cmd_prefix": "del ",
     "library": "var_list.py",
     "varRefreshCmd": "print(var_dic_list())"
    },
    "r": {
     "delete_cmd_postfix": ") ",
     "delete_cmd_prefix": "rm(",
     "library": "var_list.r",
     "varRefreshCmd": "cat(var_dic_list()) "
    }
   },
   "types_to_exclude": [
    "module",
    "function",
    "builtin_function_or_method",
    "instance",
    "_Feature"
   ],
   "window_display": false
  }
 },
 "nbformat": 4,
 "nbformat_minor": 4
}
