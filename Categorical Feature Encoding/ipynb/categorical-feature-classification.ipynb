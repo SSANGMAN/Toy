{
 "cells": [
  {
   "cell_type": "code",
   "execution_count": 201,
   "metadata": {
    "_cell_guid": "b1076dfc-b9ad-4769-8c92-a6c4dae69d19",
    "_uuid": "8f2839f25d086af736a60e9eeb907d3b93b6e0e5"
   },
   "outputs": [
    {
     "name": "stdout",
     "output_type": "stream",
     "text": [
      "['train.csv', 'test.csv', 'sample_submission.csv']\n"
     ]
    }
   ],
   "source": [
    "import numpy as np\n",
    "import pandas as pd\n",
    "\n",
    "from sklearn.preprocessing import LabelEncoder, OneHotEncoder\n",
    "from sklearn.feature_extraction import FeatureHasher\n",
    "from sklearn.model_selection import train_test_split\n",
    "from sklearn.linear_model import LogisticRegression\n",
    "from sklearn.metrics import accuracy_score\n",
    "\n",
    "import time\n",
    "import os\n",
    "import warnings\n",
    "warnings.filterwarnings('ignore')\n",
    "print(os.listdir('../input/cat-in-the-dat'))"
   ]
  },
  {
   "cell_type": "code",
   "execution_count": 274,
   "metadata": {
    "_cell_guid": "79c7e3d0-c299-4dcb-8224-4455121ee9b0",
    "_uuid": "d629ff2d2480ee46fbb7e2d37f6b5fab8052498a"
   },
   "outputs": [],
   "source": [
    "train = pd.read_csv('../input/cat-in-the-dat/train.csv')\n",
    "test = pd.read_csv('../input/cat-in-the-dat/test.csv')\n",
    "submission = pd.read_csv('../input/cat-in-the-dat/sample_submission.csv')"
   ]
  },
  {
   "cell_type": "code",
   "execution_count": 275,
   "metadata": {},
   "outputs": [
    {
     "name": "stdout",
     "output_type": "stream",
     "text": [
      "Train Dataset Shape:  (300000, 25)\n"
     ]
    },
    {
     "data": {
      "text/html": [
       "<div>\n",
       "<style scoped>\n",
       "    .dataframe tbody tr th:only-of-type {\n",
       "        vertical-align: middle;\n",
       "    }\n",
       "\n",
       "    .dataframe tbody tr th {\n",
       "        vertical-align: top;\n",
       "    }\n",
       "\n",
       "    .dataframe thead th {\n",
       "        text-align: right;\n",
       "    }\n",
       "</style>\n",
       "<table border=\"1\" class=\"dataframe\">\n",
       "  <thead>\n",
       "    <tr style=\"text-align: right;\">\n",
       "      <th></th>\n",
       "      <th>id</th>\n",
       "      <th>bin_0</th>\n",
       "      <th>bin_1</th>\n",
       "      <th>bin_2</th>\n",
       "      <th>bin_3</th>\n",
       "      <th>bin_4</th>\n",
       "      <th>nom_0</th>\n",
       "      <th>nom_1</th>\n",
       "      <th>nom_2</th>\n",
       "      <th>nom_3</th>\n",
       "      <th>...</th>\n",
       "      <th>nom_9</th>\n",
       "      <th>ord_0</th>\n",
       "      <th>ord_1</th>\n",
       "      <th>ord_2</th>\n",
       "      <th>ord_3</th>\n",
       "      <th>ord_4</th>\n",
       "      <th>ord_5</th>\n",
       "      <th>day</th>\n",
       "      <th>month</th>\n",
       "      <th>target</th>\n",
       "    </tr>\n",
       "  </thead>\n",
       "  <tbody>\n",
       "    <tr>\n",
       "      <th>0</th>\n",
       "      <td>0</td>\n",
       "      <td>0</td>\n",
       "      <td>0</td>\n",
       "      <td>0</td>\n",
       "      <td>T</td>\n",
       "      <td>Y</td>\n",
       "      <td>Green</td>\n",
       "      <td>Triangle</td>\n",
       "      <td>Snake</td>\n",
       "      <td>Finland</td>\n",
       "      <td>...</td>\n",
       "      <td>2f4cb3d51</td>\n",
       "      <td>2</td>\n",
       "      <td>Grandmaster</td>\n",
       "      <td>Cold</td>\n",
       "      <td>h</td>\n",
       "      <td>D</td>\n",
       "      <td>kr</td>\n",
       "      <td>2</td>\n",
       "      <td>2</td>\n",
       "      <td>0</td>\n",
       "    </tr>\n",
       "    <tr>\n",
       "      <th>1</th>\n",
       "      <td>1</td>\n",
       "      <td>0</td>\n",
       "      <td>1</td>\n",
       "      <td>0</td>\n",
       "      <td>T</td>\n",
       "      <td>Y</td>\n",
       "      <td>Green</td>\n",
       "      <td>Trapezoid</td>\n",
       "      <td>Hamster</td>\n",
       "      <td>Russia</td>\n",
       "      <td>...</td>\n",
       "      <td>f83c56c21</td>\n",
       "      <td>1</td>\n",
       "      <td>Grandmaster</td>\n",
       "      <td>Hot</td>\n",
       "      <td>a</td>\n",
       "      <td>A</td>\n",
       "      <td>bF</td>\n",
       "      <td>7</td>\n",
       "      <td>8</td>\n",
       "      <td>0</td>\n",
       "    </tr>\n",
       "    <tr>\n",
       "      <th>2</th>\n",
       "      <td>2</td>\n",
       "      <td>0</td>\n",
       "      <td>0</td>\n",
       "      <td>0</td>\n",
       "      <td>F</td>\n",
       "      <td>Y</td>\n",
       "      <td>Blue</td>\n",
       "      <td>Trapezoid</td>\n",
       "      <td>Lion</td>\n",
       "      <td>Russia</td>\n",
       "      <td>...</td>\n",
       "      <td>ae6800dd0</td>\n",
       "      <td>1</td>\n",
       "      <td>Expert</td>\n",
       "      <td>Lava Hot</td>\n",
       "      <td>h</td>\n",
       "      <td>R</td>\n",
       "      <td>Jc</td>\n",
       "      <td>7</td>\n",
       "      <td>2</td>\n",
       "      <td>0</td>\n",
       "    </tr>\n",
       "    <tr>\n",
       "      <th>3</th>\n",
       "      <td>3</td>\n",
       "      <td>0</td>\n",
       "      <td>1</td>\n",
       "      <td>0</td>\n",
       "      <td>F</td>\n",
       "      <td>Y</td>\n",
       "      <td>Red</td>\n",
       "      <td>Trapezoid</td>\n",
       "      <td>Snake</td>\n",
       "      <td>Canada</td>\n",
       "      <td>...</td>\n",
       "      <td>8270f0d71</td>\n",
       "      <td>1</td>\n",
       "      <td>Grandmaster</td>\n",
       "      <td>Boiling Hot</td>\n",
       "      <td>i</td>\n",
       "      <td>D</td>\n",
       "      <td>kW</td>\n",
       "      <td>2</td>\n",
       "      <td>1</td>\n",
       "      <td>1</td>\n",
       "    </tr>\n",
       "    <tr>\n",
       "      <th>4</th>\n",
       "      <td>4</td>\n",
       "      <td>0</td>\n",
       "      <td>0</td>\n",
       "      <td>0</td>\n",
       "      <td>F</td>\n",
       "      <td>N</td>\n",
       "      <td>Red</td>\n",
       "      <td>Trapezoid</td>\n",
       "      <td>Lion</td>\n",
       "      <td>Canada</td>\n",
       "      <td>...</td>\n",
       "      <td>b164b72a7</td>\n",
       "      <td>1</td>\n",
       "      <td>Grandmaster</td>\n",
       "      <td>Freezing</td>\n",
       "      <td>a</td>\n",
       "      <td>R</td>\n",
       "      <td>qP</td>\n",
       "      <td>7</td>\n",
       "      <td>8</td>\n",
       "      <td>0</td>\n",
       "    </tr>\n",
       "  </tbody>\n",
       "</table>\n",
       "<p>5 rows × 25 columns</p>\n",
       "</div>"
      ],
      "text/plain": [
       "   id  bin_0  bin_1  bin_2 bin_3 bin_4  nom_0      nom_1    nom_2    nom_3  \\\n",
       "0   0      0      0      0     T     Y  Green   Triangle    Snake  Finland   \n",
       "1   1      0      1      0     T     Y  Green  Trapezoid  Hamster   Russia   \n",
       "2   2      0      0      0     F     Y   Blue  Trapezoid     Lion   Russia   \n",
       "3   3      0      1      0     F     Y    Red  Trapezoid    Snake   Canada   \n",
       "4   4      0      0      0     F     N    Red  Trapezoid     Lion   Canada   \n",
       "\n",
       "   ...      nom_9 ord_0        ord_1        ord_2 ord_3 ord_4  ord_5 day  \\\n",
       "0  ...  2f4cb3d51     2  Grandmaster         Cold     h     D     kr   2   \n",
       "1  ...  f83c56c21     1  Grandmaster          Hot     a     A     bF   7   \n",
       "2  ...  ae6800dd0     1       Expert     Lava Hot     h     R     Jc   7   \n",
       "3  ...  8270f0d71     1  Grandmaster  Boiling Hot     i     D     kW   2   \n",
       "4  ...  b164b72a7     1  Grandmaster     Freezing     a     R     qP   7   \n",
       "\n",
       "  month target  \n",
       "0     2      0  \n",
       "1     8      0  \n",
       "2     2      0  \n",
       "3     1      1  \n",
       "4     8      0  \n",
       "\n",
       "[5 rows x 25 columns]"
      ]
     },
     "execution_count": 275,
     "metadata": {},
     "output_type": "execute_result"
    }
   ],
   "source": [
    "print(\"Train Dataset Shape: \", train.shape)\n",
    "train.head()"
   ]
  },
  {
   "cell_type": "markdown",
   "metadata": {},
   "source": [
    "- Binary Data: 두 가지 값으로만 구성된 변수.(1, 0), (Y, N)\n",
    "- Categorical Data: 여러 가지 값으로 구성된 변수.(요일 -> (1,2,3,4,5,6,7))\n",
    "- Ordinal Data: 순서를 가진 값으로 구성된 변수.(영화 평점 등)\n",
    "- Nominal Data: 수치적인 중요성이 없는 값으로 구성된 변수.(이름, 직업)\n",
    "\n",
    "이 커널에서는 Binary, Ordinal, Nominal 변수를 이용하여 Binary Classification을 수행합니다."
   ]
  },
  {
   "cell_type": "code",
   "execution_count": 276,
   "metadata": {},
   "outputs": [
    {
     "name": "stdout",
     "output_type": "stream",
     "text": [
      "Number of Unique Values in Train Dataset Columns\n",
      "id :  300000\n",
      "bin_0 :  2\n",
      "bin_1 :  2\n",
      "bin_2 :  2\n",
      "bin_3 :  2\n",
      "bin_4 :  2\n",
      "nom_0 :  3\n",
      "nom_1 :  6\n",
      "nom_2 :  6\n",
      "nom_3 :  6\n",
      "nom_4 :  4\n",
      "nom_5 :  222\n",
      "nom_6 :  522\n",
      "nom_7 :  1220\n",
      "nom_8 :  2215\n",
      "nom_9 :  11981\n",
      "ord_0 :  3\n",
      "ord_1 :  5\n",
      "ord_2 :  6\n",
      "ord_3 :  15\n",
      "ord_4 :  26\n",
      "ord_5 :  192\n",
      "day :  7\n",
      "month :  12\n",
      "target :  2\n"
     ]
    }
   ],
   "source": [
    "cols = train.columns\n",
    "print(\"Number of Unique Values in Train Dataset Columns\")\n",
    "\n",
    "for col in cols:\n",
    "    print(\"{} : \".format(col),train[col].nunique())"
   ]
  },
  {
   "cell_type": "code",
   "execution_count": 277,
   "metadata": {},
   "outputs": [
    {
     "name": "stdout",
     "output_type": "stream",
     "text": [
      "<class 'pandas.core.frame.DataFrame'>\n",
      "RangeIndex: 300000 entries, 0 to 299999\n",
      "Data columns (total 25 columns):\n",
      "id        300000 non-null int64\n",
      "bin_0     300000 non-null int64\n",
      "bin_1     300000 non-null int64\n",
      "bin_2     300000 non-null int64\n",
      "bin_3     300000 non-null object\n",
      "bin_4     300000 non-null object\n",
      "nom_0     300000 non-null object\n",
      "nom_1     300000 non-null object\n",
      "nom_2     300000 non-null object\n",
      "nom_3     300000 non-null object\n",
      "nom_4     300000 non-null object\n",
      "nom_5     300000 non-null object\n",
      "nom_6     300000 non-null object\n",
      "nom_7     300000 non-null object\n",
      "nom_8     300000 non-null object\n",
      "nom_9     300000 non-null object\n",
      "ord_0     300000 non-null int64\n",
      "ord_1     300000 non-null object\n",
      "ord_2     300000 non-null object\n",
      "ord_3     300000 non-null object\n",
      "ord_4     300000 non-null object\n",
      "ord_5     300000 non-null object\n",
      "day       300000 non-null int64\n",
      "month     300000 non-null int64\n",
      "target    300000 non-null int64\n",
      "dtypes: int64(8), object(17)\n",
      "memory usage: 57.2+ MB\n"
     ]
    }
   ],
   "source": [
    "train.info()"
   ]
  },
  {
   "cell_type": "markdown",
   "metadata": {},
   "source": [
    "# Preprocessing\n",
    "\n",
    "## Features(X), Label Split(y) "
   ]
  },
  {
   "cell_type": "code",
   "execution_count": 278,
   "metadata": {},
   "outputs": [],
   "source": [
    "X_train = train.drop(columns = ['id','target'])\n",
    "\n",
    "int_cols = ['bin_0', 'bin_1', 'bin_2','ord_0', 'ord_2', 'day', 'month']\n",
    "for col in int_cols:\n",
    "    X_train[col] = X_train[col].astype(object)\n",
    "\n",
    "y_train = train['target']"
   ]
  },
  {
   "cell_type": "markdown",
   "metadata": {},
   "source": [
    "## Label Encoder\n",
    "먼저, LabelEncoder 방법을 이용하여 이진 분류(Binary Classification) 문제를 해결합니다. \n",
    "- Label Encoder: 문자열로 구성된 카테고리 변수를 수치형으로 변환. 일반적인 방법은 아님.\n",
    "- 이진 분류에서 가장 기본적으로 사용되는 Logistic Regression을 이용합니다. "
   ]
  },
  {
   "cell_type": "code",
   "execution_count": 279,
   "metadata": {},
   "outputs": [],
   "source": [
    "def Feature_LabelEncoder(features, label, train):\n",
    "    label_encoder = LabelEncoder()\n",
    "    \n",
    "    X_train, X_val, y_train, y_val = train_test_split(features, label, test_size = 0.2, random_state =42)\n",
    "    \n",
    "    for col in X_train.columns:\n",
    "        X_train[col] = label_encoder.fit_transform(X_train[col])\n",
    "        X_val[col] = label_encoder.fit_transform(X_val[col])\n",
    "        \n",
    "    if train == True:\n",
    "        print(\"Train Data Shape: {} Rows, {} Columns\".format(X_train.shape[0], X_train.shape[1]))\n",
    "        return X_train, y_train\n",
    "    \n",
    "    else:\n",
    "        print(\"Train Data Shape: {} Rows, {} Columns\".format(X_val.shape[0], X_val.shape[1]))\n",
    "        return X_val, y_val"
   ]
  },
  {
   "cell_type": "code",
   "execution_count": 280,
   "metadata": {},
   "outputs": [
    {
     "name": "stdout",
     "output_type": "stream",
     "text": [
      "Train Data Shape: 240000 Rows, 23 Columns\n",
      "Train Data Shape: 60000 Rows, 23 Columns\n"
     ]
    }
   ],
   "source": [
    "X_tr, y_tr = Feature_LabelEncoder(X_train, y_train, train = True)\n",
    "X_vl, y_vl = Feature_LabelEncoder(X_train, y_train, train = False)"
   ]
  },
  {
   "cell_type": "code",
   "execution_count": 210,
   "metadata": {},
   "outputs": [
    {
     "name": "stdout",
     "output_type": "stream",
     "text": [
      "Accuracy: 0.69485\n",
      "CPU times: user 14.5 s, sys: 9.39 s, total: 23.9 s\n",
      "Wall time: 6.22 s\n"
     ]
    }
   ],
   "source": [
    "%%time\n",
    "\n",
    "logistic_reg = LogisticRegression()\n",
    "logistic_reg.fit(X_tr, y_tr)\n",
    "\n",
    "lb_prediction = logistic_reg.predict(X_vl)\n",
    "\n",
    "print(\"Accuracy: {}\".format(accuracy_score(lb_prediction, y_vl)))"
   ]
  },
  {
   "cell_type": "markdown",
   "metadata": {},
   "source": [
    "## One Hot Encoding\n",
    "일반적인 One-Hot Encoding을 이용해 Logistic Regression을 먼저 수행합니다."
   ]
  },
  {
   "cell_type": "code",
   "execution_count": 211,
   "metadata": {},
   "outputs": [],
   "source": [
    "def Feature_OneHotEncoder(features, label, train):\n",
    "    encoder = OneHotEncoder()\n",
    "    \n",
    "    encoder_train = encoder.fit_transform(features)\n",
    "    \n",
    "    X_train, X_val, y_train, y_val = train_test_split(encoder_train, label, test_size = 0.2, random_state = 42)\n",
    "    \n",
    "    if train == True:\n",
    "        print(\"Train Data Shape: {} Rows, {} Columns\".format(X_train.shape[0], X_train.shape[1]))\n",
    "        return X_train, y_train\n",
    "    \n",
    "    else:\n",
    "        print(\"Train Data Shape: {} Rows, {} Columns\".format(X_val.shape[0], X_val.shape[1]))\n",
    "        return X_val, y_val"
   ]
  },
  {
   "cell_type": "code",
   "execution_count": 212,
   "metadata": {},
   "outputs": [
    {
     "name": "stdout",
     "output_type": "stream",
     "text": [
      "Train Data Shape: 240000 Rows, 16461 Columns\n",
      "Train Data Shape: 60000 Rows, 16461 Columns\n"
     ]
    }
   ],
   "source": [
    "X_tr, y_tr = Feature_OneHotEncoder(X_train, y_train, train = True)\n",
    "X_vl ,y_vl = Feature_OneHotEncoder(X_train, y_train, train = False)"
   ]
  },
  {
   "cell_type": "code",
   "execution_count": 213,
   "metadata": {},
   "outputs": [
    {
     "name": "stdout",
     "output_type": "stream",
     "text": [
      "Accuracy:  0.76035\n",
      "CPU times: user 17.6 s, sys: 17.4 s, total: 35 s\n",
      "Wall time: 8.88 s\n"
     ]
    }
   ],
   "source": [
    "%%time\n",
    "\n",
    "model = LogisticRegression()\n",
    "model.fit(X_tr, y_tr)\n",
    "\n",
    "ohe_prediction = model.predict(X_vl)\n",
    "\n",
    "print(\"Accuracy: \", accuracy_score(y_vl, ohe_prediction))"
   ]
  },
  {
   "cell_type": "markdown",
   "metadata": {},
   "source": [
    "## Feature Hashing"
   ]
  },
  {
   "cell_type": "code",
   "execution_count": 214,
   "metadata": {},
   "outputs": [],
   "source": [
    "def Feature_Hashing(features, label, train):\n",
    "    hashing = FeatureHasher(input_type = 'string')\n",
    "    \n",
    "    for col in features.columns:\n",
    "        features[col] = features[col].astype('str')\n",
    "    \n",
    "    train_df = hashing.fit_transform(features.values)\n",
    "    \n",
    "    X_train, X_val, y_train, y_val = train_test_split(train_df, label, test_size = 0.2, random_state = 42)\n",
    "    \n",
    "    if train == True:\n",
    "        print(\"Train Data Shape: {} Rows, {} Columns\".format(X_train.shape[0], X_train.shape[1]))\n",
    "        return X_train, y_train\n",
    "    \n",
    "    else:\n",
    "        print(\"Validation Data Shape: {} Rows, {} Columns\".format(X_val.shape[0], X_train.shape[1]))\n",
    "        return X_val, y_val"
   ]
  },
  {
   "cell_type": "code",
   "execution_count": 215,
   "metadata": {},
   "outputs": [
    {
     "name": "stdout",
     "output_type": "stream",
     "text": [
      "Train Data Shape: 240000 Rows, 1048576 Columns\n",
      "Validation Data Shape: 60000 Rows, 1048576 Columns\n"
     ]
    }
   ],
   "source": [
    "X_tr, y_tr = Feature_Hashing(X_train, y_train, train = True)\n",
    "X_vl, y_vl = Feature_Hashing(X_train, y_train, train = False)"
   ]
  },
  {
   "cell_type": "code",
   "execution_count": 216,
   "metadata": {},
   "outputs": [
    {
     "name": "stdout",
     "output_type": "stream",
     "text": [
      "Accuracy: 0.7540666666666667\n"
     ]
    }
   ],
   "source": [
    "model = LogisticRegression(random_state = 42)\n",
    "model.fit(X_tr, y_tr)\n",
    "\n",
    "fh_prediction = model.predict(X_vl)\n",
    "\n",
    "print(\"Accuracy: {}\".format(accuracy_score(fh_prediction, y_vl)))"
   ]
  },
  {
   "cell_type": "markdown",
   "metadata": {},
   "source": [
    "## Encoding Categories with Dataset Statistics\n",
    "- 빈도수와 문자열의 유사도에 따라 비슷한 범주를 서로 가깝게 배치하는 인코딩 방법입니다.\n"
   ]
  },
  {
   "cell_type": "code",
   "execution_count": 251,
   "metadata": {},
   "outputs": [],
   "source": [
    "def Feature_Stat(features, label, train):\n",
    "    f = features.copy() # 왜 복사를 안하면 글로벌 인스턴스가 변경이 되는거지?\n",
    "    \n",
    "    for col in f.columns:\n",
    "        f[col] = f[col].astype('category')\n",
    "        counts = f[col].value_counts().sort_index().fillna(0)\n",
    "        \n",
    "        # 컬럼별 고유값 개수에 따른 Uniform 분포를 따르는 난수 생성 후, 각각 1000으로 나눈다. 그 후, 각 빈도수에 더한다.\n",
    "        # 1000으로 나뉘는 이유는 같은 같은 빈도수가 등장하게 되면, 다른 범주여도 같은 범주로 인식을 할 수 있기 때문이다.\n",
    "        # ex) 0과 1로 구성된 컬럼은 (2, ) 형태의 난수를 생성하고 각각을 1000으로 나눈후, 빈도에 더한다.\n",
    "        counts += np.random.rand(len(counts))/1000\n",
    "        \n",
    "        f[col].cat.categories = counts\n",
    "    \n",
    "    X_tr, X_vl, y_tr, y_vl = train_test_split(features, label, test_size = 0.2, random_state = 42)\n",
    "\n",
    "    if train == True:\n",
    "        print(\"Train Data Shape: {} Rows, {} Columns\".format(X_tr.shape[0], X_tr.shape[1]))\n",
    "        return X_train, y_train\n",
    "    \n",
    "    else:\n",
    "        print(\"Validation Data Shape: {} Rows, {} Columns\".format(X_val.shape[0], X_val.shape[1]))\n",
    "        return X_val, y_val"
   ]
  },
  {
   "cell_type": "code",
   "execution_count": 252,
   "metadata": {},
   "outputs": [
    {
     "name": "stdout",
     "output_type": "stream",
     "text": [
      "Train Data Shape: 240000 Rows, 23 Columns\n",
      "Validation Data Shape: 90000 Rows, 24 Columns\n"
     ]
    }
   ],
   "source": [
    "X_tr, y_tr = Feature_Stat(X_train, y_train, train = True)\n",
    "X_vl, y_vl = Feature_Stat(X_train, y_train, train = False)"
   ]
  },
  {
   "cell_type": "code",
   "execution_count": 227,
   "metadata": {},
   "outputs": [
    {
     "name": "stdout",
     "output_type": "stream",
     "text": [
      "Accuracy: 0.6936166666666667\n"
     ]
    }
   ],
   "source": [
    "model = LogisticRegression(random_state = 42)\n",
    "model.fit(X_tr, y_tr)\n",
    "\n",
    "stat_prediction = model.predict(X_vl)\\\n",
    "\n",
    "print(\"Accuracy: {}\".format(accuracy_score(stat_prediction, y_vl)))"
   ]
  },
  {
   "cell_type": "markdown",
   "metadata": {},
   "source": [
    "## Cyclic Feature\n",
    "- 몇몇 변수는 순환형 값을 보입니다. 예를 들어, 월, 일, 시간이 존재합니다.\n",
    "- Cosine 함수와 Sine 함수를 사용하여 이를 구현합니다.\n",
    "- 순환형 변수를 제외하곤, 지금까지 가장 성능이 좋았던 One Hot Encoding 방법을 이용합니다."
   ]
  },
  {
   "cell_type": "code",
   "execution_count": 270,
   "metadata": {},
   "outputs": [],
   "source": [
    "def Feature_Cyclic(features, label, train):\n",
    "    f = features.copy()\n",
    "    cyclic_cols = ['day', 'month']\n",
    "    \n",
    "    for cyclic_col in cyclic_cols:\n",
    "        f[cyclic_col] = f[cyclic_col].astype('float')\n",
    "        \n",
    "        f[cyclic_col + \"_sin\"] = np.sin((2 * np.pi * f[cyclic_col]) / max(f[cyclic_col]))\n",
    "        f[cyclic_col + \"_cos\"] = np.cos((2 * np.pi * f[cyclic_col]) / max(f[cyclic_col]))\n",
    "    \n",
    "    f.drop(columns = cyclic_cols, inplace = True)\n",
    "    \n",
    "    encoder = OneHotEncoder()\n",
    "    oh_f = encoder.fit_transform(f)\n",
    "    \n",
    "    X_train, X_val, y_train, y_val = train_test_split(oh_f, label, test_size = 0.2, random_state = 42)\n",
    "    \n",
    "    if train == True:\n",
    "        print(\"Train Data Shape: {} Rows, {} Columns\".format(X_train.shape[0], X_train.shape[1]))\n",
    "        return X_train, y_train\n",
    "    \n",
    "    else:\n",
    "        print(\"Validation Data Shape: {} Rows, {} Columns\".format(X_val.shape[0], X_train.shape[1]))\n",
    "        return X_val, y_val"
   ]
  },
  {
   "cell_type": "code",
   "execution_count": 271,
   "metadata": {},
   "outputs": [
    {
     "name": "stdout",
     "output_type": "stream",
     "text": [
      "Train Data Shape: 240000 Rows, 16478 Columns\n",
      "Validation Data Shape: 60000 Rows, 16478 Columns\n"
     ]
    }
   ],
   "source": [
    "X_tr, y_tr = Feature_Cyclic(X_train, y_train, train = True)\n",
    "X_vl, y_vl = Feature_Cyclic(X_train, y_train, train = False)"
   ]
  },
  {
   "cell_type": "code",
   "execution_count": 273,
   "metadata": {},
   "outputs": [
    {
     "name": "stdout",
     "output_type": "stream",
     "text": [
      "Accuracy: 0.76145\n"
     ]
    }
   ],
   "source": [
    "model = LogisticRegression()\n",
    "model.fit(X_tr, y_tr)\n",
    "\n",
    "cy_prediction = model.predict(X_vl)\n",
    "print(\"Accuracy: {}\".format(accuracy_score(cy_prediction, y_vl)))"
   ]
  }
 ],
 "metadata": {
  "kernelspec": {
   "display_name": "Python 3",
   "language": "python",
   "name": "python3"
  },
  "language_info": {
   "codemirror_mode": {
    "name": "ipython",
    "version": 3
   },
   "file_extension": ".py",
   "mimetype": "text/x-python",
   "name": "python",
   "nbconvert_exporter": "python",
   "pygments_lexer": "ipython3",
   "version": "3.7.7"
  },
  "toc": {
   "base_numbering": 1,
   "nav_menu": {},
   "number_sections": true,
   "sideBar": true,
   "skip_h1_title": false,
   "title_cell": "Table of Contents",
   "title_sidebar": "Contents",
   "toc_cell": false,
   "toc_position": {},
   "toc_section_display": true,
   "toc_window_display": false
  },
  "varInspector": {
   "cols": {
    "lenName": 16,
    "lenType": 16,
    "lenVar": 40
   },
   "kernels_config": {
    "python": {
     "delete_cmd_postfix": "",
     "delete_cmd_prefix": "del ",
     "library": "var_list.py",
     "varRefreshCmd": "print(var_dic_list())"
    },
    "r": {
     "delete_cmd_postfix": ") ",
     "delete_cmd_prefix": "rm(",
     "library": "var_list.r",
     "varRefreshCmd": "cat(var_dic_list()) "
    }
   },
   "types_to_exclude": [
    "module",
    "function",
    "builtin_function_or_method",
    "instance",
    "_Feature"
   ],
   "window_display": false
  }
 },
 "nbformat": 4,
 "nbformat_minor": 4
}
